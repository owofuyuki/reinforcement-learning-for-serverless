{
 "cells": [
  {
   "cell_type": "markdown",
   "metadata": {},
   "source": [
    "_**Inspired by [Ozturk et al., \"Energy Optimization in Ultra-Dense Radio Access Networks via Traffic-Aware Cell Switching,\" in IEEE Transactions on Green Communications and Networking, vol. 5, no. 2, pp. 832-845, June 2021, doi: 10.1109/TGCN.2021.3056235.](https://ieeexplore.ieee.org/abstract/document/9344664)**_"
   ]
  },
  {
   "cell_type": "code",
   "execution_count": null,
   "metadata": {},
   "outputs": [],
   "source": [
    "%matplotlib inline"
   ]
  },
  {
   "cell_type": "markdown",
   "metadata": {},
   "source": [
    "# __Network Scenario__\n",
    "\n",
    "- #### Inspired by Ozturk et al. (2021) in the BS activation problem for energy saving\n",
    "- #### Consider a simple network topology of 25 macro BSs in a 5x5 grid\n",
    "  #### $$ B = \\{B_1, B_2, B_3, B_4, ..., B_25\\} $$\n",
    "- #### Assume that all BSs in the grid have coverage overlaps\n",
    "- #### Assume a centralized controller can monitor and manage the entire network topology\n",
    "\n",
    "  #### **$ \\rightarrow $ Objective:** MDP for turning on/off BSs. If a BS is turning OFF, its load is share to neighbor BSs. Controller perform action on BS sequentially (BSs perform action one by one)"
   ]
  },
  {
   "cell_type": "code",
   "execution_count": null,
   "metadata": {},
   "outputs": [],
   "source": []
  }
 ],
 "metadata": {
  "language_info": {
   "name": "python"
  }
 },
 "nbformat": 4,
 "nbformat_minor": 2
}
