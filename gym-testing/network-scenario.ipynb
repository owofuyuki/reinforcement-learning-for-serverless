{
 "cells": [
  {
   "cell_type": "code",
   "execution_count": null,
   "metadata": {},
   "outputs": [],
   "source": [
    "from google.colab import drive\n",
    "drive.mount('/content/gdrive', force_remount=True)"
   ]
  },
  {
   "cell_type": "markdown",
   "metadata": {},
   "source": [
    "_**Inspired by [Ozturk et al., \"Energy Optimization in Ultra-Dense Radio Access Networks via Traffic-Aware Cell Switching,\" in IEEE Transactions on Green Communications and Networking, vol. 5, no. 2, pp. 832-845, June 2021, doi: 10.1109/TGCN.2021.3056235.](https://ieeexplore.ieee.org/abstract/document/9344664)**_"
   ]
  },
  {
   "cell_type": "code",
   "execution_count": 1,
   "metadata": {},
   "outputs": [],
   "source": [
    "%matplotlib inline\n",
    "\n",
    "import numpy as np\n",
    "\n",
    "import gymnasium as gym\n",
    "from gymnasium import spaces"
   ]
  },
  {
   "cell_type": "markdown",
   "metadata": {},
   "source": [
    "# **Network Scenario**\n",
    "\n",
    "- #### Inspired by Ozturk et al. (2021) in the BS activation problem for energy saving\n",
    "\n",
    "- #### Consider a simple network topology of 25 macro BSs in a 5x5 grid\n",
    "\n",
    "  #### $$ B = \\{B_1, B_2, B_3, B_4, ..., B_25\\} $$\n",
    "\n",
    "  <center>\n",
    "    <img src=\"./imgs/1.png\" alt=\"1.png\" title=\"1.png\" width=\"320\"/>\n",
    "  </center><br>\n",
    "\n",
    "- #### Assume that all BSs in the grid have coverage overlaps\n",
    "\n",
    "- #### Assume a centralized controller can monitor and manage the entire network topology\n",
    "\n",
    "  <center>\n",
    "    <img src=\"./imgs/2.png\" alt=\"2.png\" title=\"2.png\" width=\"480\"/>\n",
    "  </center>\n",
    "\n",
    "  #### **$ \\rightarrow $ Objective:** MDP for turning on/off BSs. If a BS is turning OFF, its load is share to neighbor BSs. Controller perform action on BS sequentially (BSs perform action one by one)\n",
    "\n",
    "<div class=\"alert alert-block alert-info\">\n",
    "  <b>Note:</b> MDP stands for Markov decision process\n",
    "</div>\n"
   ]
  },
  {
   "cell_type": "code",
   "execution_count": null,
   "metadata": {},
   "outputs": [],
   "source": []
  },
  {
   "cell_type": "markdown",
   "metadata": {},
   "source": [
    "## **State space**\n",
    "\n",
    "#### State space will contain 2 traffic matrices: **$ s^t = (D^t, L^t) $**\n",
    "\n",
    "- #### **Traffic demand (D):** The original traffic demand from Milan dataset at time t <br>\n",
    "  - #### $ 0 \\leq {d_j}^t \\leq 1 $\n",
    "  - #### Initiate all $ {d_j}^0 = {l_j}^0 = 0.1 $\n",
    "\n",
    "- #### **Traffic state (L):** The traffic load matrix considering BS (de)activation evolution from time to time (from $ t = 0 $ to $ t $) <br>\n",
    "  - #### $ {l_j}^t = 0 $ indicates BS j is OFF\n",
    "  - #### $ 0 \\leq {l_j}^t \\leq 1 $\n",
    "  - #### Initiate all $ {l_j}^t $ is $ {\\lambda_j}^t $ for calculating Power\n",
    "\n",
    "<center>\n",
    "  <img src=\"./imgs/3.png\" alt=\"3.png\" title=\"3.png\" width=\"480\"/>\n",
    "</center>"
   ]
  },
  {
   "cell_type": "code",
   "execution_count": null,
   "metadata": {},
   "outputs": [],
   "source": []
  },
  {
   "cell_type": "markdown",
   "metadata": {},
   "source": [
    "## **Action space**\n",
    "\n",
    "- #### There will be **17 actions for each BS**\n",
    "\n",
    "- #### Load can be split **equally** in <u>up to</u> 4 directions\n",
    "\n",
    "- #### Total action space of **25 * 17 = 425 possible actions**\n",
    "\n",
    "  #### $$ a^t \\in \\{0, 1, 2,..., 424\\} $$\n",
    "\n",
    "<center>\n",
    "  <img src=\"./imgs/4.png\" alt=\"4.png\" title=\"4.png\" width=\"600\"/>\n",
    "</center>"
   ]
  },
  {
   "cell_type": "code",
   "execution_count": null,
   "metadata": {},
   "outputs": [],
   "source": []
  }
 ],
 "metadata": {
  "kernelspec": {
   "display_name": "Python 3",
   "language": "python",
   "name": "python3"
  },
  "language_info": {
   "codemirror_mode": {
    "name": "ipython",
    "version": 3
   },
   "file_extension": ".py",
   "mimetype": "text/x-python",
   "name": "python",
   "nbconvert_exporter": "python",
   "pygments_lexer": "ipython3",
   "version": "3.11.2"
  }
 },
 "nbformat": 4,
 "nbformat_minor": 2
}
